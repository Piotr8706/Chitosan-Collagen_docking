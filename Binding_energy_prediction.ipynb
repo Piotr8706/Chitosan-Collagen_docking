{
 "cells": [
  {
   "cell_type": "code",
   "execution_count": 187,
   "metadata": {},
   "outputs": [],
   "source": [
    "import numpy as np\n",
    "import pandas as pd\n",
    "import matplotlib.pyplot as plt\n",
    "import seaborn as sns\n",
    "from sklearn.model_selection import train_test_split"
   ]
  },
  {
   "cell_type": "markdown",
   "metadata": {},
   "source": [
    "## The purpose of this work is to predict binding energy between chitosan and collagen type II"
   ]
  },
  {
   "cell_type": "code",
   "execution_count": 188,
   "metadata": {},
   "outputs": [],
   "source": [
    "df = pd.read_csv('./Files/All_interactions.csv')\n",
    "df = df.drop(columns='id')"
   ]
  },
  {
   "cell_type": "code",
   "execution_count": 189,
   "metadata": {},
   "outputs": [
    {
     "data": {
      "text/html": [
       "<div>\n",
       "<style scoped>\n",
       "    .dataframe tbody tr th:only-of-type {\n",
       "        vertical-align: middle;\n",
       "    }\n",
       "\n",
       "    .dataframe tbody tr th {\n",
       "        vertical-align: top;\n",
       "    }\n",
       "\n",
       "    .dataframe thead th {\n",
       "        text-align: right;\n",
       "    }\n",
       "</style>\n",
       "<table border=\"1\" class=\"dataframe\">\n",
       "  <thead>\n",
       "    <tr style=\"text-align: right;\">\n",
       "      <th></th>\n",
       "      <th>DD</th>\n",
       "      <th>HD</th>\n",
       "      <th>Variant_HD</th>\n",
       "      <th>Variant_DD</th>\n",
       "      <th>Position</th>\n",
       "      <th>Hydrogen Bonds_ALA</th>\n",
       "      <th>Hydrogen Bonds_ARG</th>\n",
       "      <th>Hydrogen Bonds_GLN</th>\n",
       "      <th>Hydrogen Bonds_GLU</th>\n",
       "      <th>Hydrogen Bonds_GLY</th>\n",
       "      <th>...</th>\n",
       "      <th>Ionic Interactions_PRO</th>\n",
       "      <th>Hydrophobic Interactions_ALA</th>\n",
       "      <th>Hydrophobic Interactions_ARG</th>\n",
       "      <th>Hydrophobic Interactions_GLN</th>\n",
       "      <th>Hydrophobic Interactions_GLU</th>\n",
       "      <th>Hydrophobic Interactions_GLY</th>\n",
       "      <th>Hydrophobic Interactions_HYP</th>\n",
       "      <th>Hydrophobic Interactions_LEU</th>\n",
       "      <th>Hydrophobic Interactions_PRO</th>\n",
       "      <th>Binding_Energy</th>\n",
       "    </tr>\n",
       "  </thead>\n",
       "  <tbody>\n",
       "    <tr>\n",
       "      <th>count</th>\n",
       "      <td>38314.000000</td>\n",
       "      <td>38314.000000</td>\n",
       "      <td>38314.000000</td>\n",
       "      <td>38314.000000</td>\n",
       "      <td>38314.000000</td>\n",
       "      <td>38313.000000</td>\n",
       "      <td>38313.000000</td>\n",
       "      <td>38313.000000</td>\n",
       "      <td>38313.000000</td>\n",
       "      <td>38313.000000</td>\n",
       "      <td>...</td>\n",
       "      <td>38313.000000</td>\n",
       "      <td>38313.000000</td>\n",
       "      <td>38313.000000</td>\n",
       "      <td>38313.000000</td>\n",
       "      <td>38313.000000</td>\n",
       "      <td>38313.000000</td>\n",
       "      <td>38313.000000</td>\n",
       "      <td>38313.000000</td>\n",
       "      <td>38313.000000</td>\n",
       "      <td>37836.000000</td>\n",
       "    </tr>\n",
       "    <tr>\n",
       "      <th>mean</th>\n",
       "      <td>0.516143</td>\n",
       "      <td>0.514458</td>\n",
       "      <td>2.767500</td>\n",
       "      <td>2.938665</td>\n",
       "      <td>21.186955</td>\n",
       "      <td>0.536100</td>\n",
       "      <td>0.349733</td>\n",
       "      <td>0.386833</td>\n",
       "      <td>0.453987</td>\n",
       "      <td>0.822495</td>\n",
       "      <td>...</td>\n",
       "      <td>0.000331</td>\n",
       "      <td>0.154923</td>\n",
       "      <td>0.141793</td>\n",
       "      <td>0.040745</td>\n",
       "      <td>0.112003</td>\n",
       "      <td>0.047002</td>\n",
       "      <td>0.384473</td>\n",
       "      <td>0.177948</td>\n",
       "      <td>0.636981</td>\n",
       "      <td>-296.496320</td>\n",
       "    </tr>\n",
       "    <tr>\n",
       "      <th>std</th>\n",
       "      <td>0.258676</td>\n",
       "      <td>0.292259</td>\n",
       "      <td>1.422686</td>\n",
       "      <td>1.432841</td>\n",
       "      <td>12.046487</td>\n",
       "      <td>0.550967</td>\n",
       "      <td>0.459683</td>\n",
       "      <td>0.497434</td>\n",
       "      <td>0.523676</td>\n",
       "      <td>0.725287</td>\n",
       "      <td>...</td>\n",
       "      <td>0.015748</td>\n",
       "      <td>0.211552</td>\n",
       "      <td>0.226192</td>\n",
       "      <td>0.108114</td>\n",
       "      <td>0.191295</td>\n",
       "      <td>0.094760</td>\n",
       "      <td>0.401581</td>\n",
       "      <td>0.261759</td>\n",
       "      <td>0.647696</td>\n",
       "      <td>114.312392</td>\n",
       "    </tr>\n",
       "    <tr>\n",
       "      <th>min</th>\n",
       "      <td>0.125000</td>\n",
       "      <td>0.000000</td>\n",
       "      <td>1.000000</td>\n",
       "      <td>1.000000</td>\n",
       "      <td>1.000000</td>\n",
       "      <td>0.000000</td>\n",
       "      <td>0.000000</td>\n",
       "      <td>0.000000</td>\n",
       "      <td>0.000000</td>\n",
       "      <td>0.000000</td>\n",
       "      <td>...</td>\n",
       "      <td>0.000000</td>\n",
       "      <td>0.000000</td>\n",
       "      <td>0.000000</td>\n",
       "      <td>0.000000</td>\n",
       "      <td>0.000000</td>\n",
       "      <td>0.000000</td>\n",
       "      <td>0.000000</td>\n",
       "      <td>0.000000</td>\n",
       "      <td>0.000000</td>\n",
       "      <td>-790.240000</td>\n",
       "    </tr>\n",
       "    <tr>\n",
       "      <th>25%</th>\n",
       "      <td>0.250000</td>\n",
       "      <td>0.290000</td>\n",
       "      <td>1.000000</td>\n",
       "      <td>2.000000</td>\n",
       "      <td>11.000000</td>\n",
       "      <td>0.000000</td>\n",
       "      <td>0.000000</td>\n",
       "      <td>0.000000</td>\n",
       "      <td>0.000000</td>\n",
       "      <td>0.100000</td>\n",
       "      <td>...</td>\n",
       "      <td>0.000000</td>\n",
       "      <td>0.000000</td>\n",
       "      <td>0.000000</td>\n",
       "      <td>0.000000</td>\n",
       "      <td>0.000000</td>\n",
       "      <td>0.000000</td>\n",
       "      <td>0.030000</td>\n",
       "      <td>0.000000</td>\n",
       "      <td>0.100000</td>\n",
       "      <td>-372.187500</td>\n",
       "    </tr>\n",
       "    <tr>\n",
       "      <th>50%</th>\n",
       "      <td>0.500000</td>\n",
       "      <td>0.570000</td>\n",
       "      <td>3.000000</td>\n",
       "      <td>3.000000</td>\n",
       "      <td>21.000000</td>\n",
       "      <td>0.450000</td>\n",
       "      <td>0.100000</td>\n",
       "      <td>0.030000</td>\n",
       "      <td>0.230000</td>\n",
       "      <td>0.810000</td>\n",
       "      <td>...</td>\n",
       "      <td>0.000000</td>\n",
       "      <td>0.060000</td>\n",
       "      <td>0.030000</td>\n",
       "      <td>0.000000</td>\n",
       "      <td>0.000000</td>\n",
       "      <td>0.000000</td>\n",
       "      <td>0.290000</td>\n",
       "      <td>0.030000</td>\n",
       "      <td>0.450000</td>\n",
       "      <td>-291.500000</td>\n",
       "    </tr>\n",
       "    <tr>\n",
       "      <th>75%</th>\n",
       "      <td>0.750000</td>\n",
       "      <td>0.710000</td>\n",
       "      <td>4.000000</td>\n",
       "      <td>4.000000</td>\n",
       "      <td>31.000000</td>\n",
       "      <td>0.940000</td>\n",
       "      <td>0.680000</td>\n",
       "      <td>0.810000</td>\n",
       "      <td>0.900000</td>\n",
       "      <td>1.190000</td>\n",
       "      <td>...</td>\n",
       "      <td>0.000000</td>\n",
       "      <td>0.260000</td>\n",
       "      <td>0.190000</td>\n",
       "      <td>0.000000</td>\n",
       "      <td>0.160000</td>\n",
       "      <td>0.060000</td>\n",
       "      <td>0.580000</td>\n",
       "      <td>0.290000</td>\n",
       "      <td>1.000000</td>\n",
       "      <td>-215.397500</td>\n",
       "    </tr>\n",
       "    <tr>\n",
       "      <th>max</th>\n",
       "      <td>1.000000</td>\n",
       "      <td>1.000000</td>\n",
       "      <td>5.000000</td>\n",
       "      <td>5.000000</td>\n",
       "      <td>48.000000</td>\n",
       "      <td>3.450000</td>\n",
       "      <td>2.970000</td>\n",
       "      <td>2.970000</td>\n",
       "      <td>2.940000</td>\n",
       "      <td>4.740000</td>\n",
       "      <td>...</td>\n",
       "      <td>1.000000</td>\n",
       "      <td>1.900000</td>\n",
       "      <td>2.740000</td>\n",
       "      <td>1.320000</td>\n",
       "      <td>2.190000</td>\n",
       "      <td>1.130000</td>\n",
       "      <td>3.650000</td>\n",
       "      <td>2.520000</td>\n",
       "      <td>5.480000</td>\n",
       "      <td>359.680000</td>\n",
       "    </tr>\n",
       "  </tbody>\n",
       "</table>\n",
       "<p>8 rows × 30 columns</p>\n",
       "</div>"
      ],
      "text/plain": [
       "                 DD            HD    Variant_HD    Variant_DD      Position  \\\n",
       "count  38314.000000  38314.000000  38314.000000  38314.000000  38314.000000   \n",
       "mean       0.516143      0.514458      2.767500      2.938665     21.186955   \n",
       "std        0.258676      0.292259      1.422686      1.432841     12.046487   \n",
       "min        0.125000      0.000000      1.000000      1.000000      1.000000   \n",
       "25%        0.250000      0.290000      1.000000      2.000000     11.000000   \n",
       "50%        0.500000      0.570000      3.000000      3.000000     21.000000   \n",
       "75%        0.750000      0.710000      4.000000      4.000000     31.000000   \n",
       "max        1.000000      1.000000      5.000000      5.000000     48.000000   \n",
       "\n",
       "       Hydrogen Bonds_ALA  Hydrogen Bonds_ARG  Hydrogen Bonds_GLN  \\\n",
       "count        38313.000000        38313.000000        38313.000000   \n",
       "mean             0.536100            0.349733            0.386833   \n",
       "std              0.550967            0.459683            0.497434   \n",
       "min              0.000000            0.000000            0.000000   \n",
       "25%              0.000000            0.000000            0.000000   \n",
       "50%              0.450000            0.100000            0.030000   \n",
       "75%              0.940000            0.680000            0.810000   \n",
       "max              3.450000            2.970000            2.970000   \n",
       "\n",
       "       Hydrogen Bonds_GLU  Hydrogen Bonds_GLY  ...  Ionic Interactions_PRO  \\\n",
       "count        38313.000000        38313.000000  ...            38313.000000   \n",
       "mean             0.453987            0.822495  ...                0.000331   \n",
       "std              0.523676            0.725287  ...                0.015748   \n",
       "min              0.000000            0.000000  ...                0.000000   \n",
       "25%              0.000000            0.100000  ...                0.000000   \n",
       "50%              0.230000            0.810000  ...                0.000000   \n",
       "75%              0.900000            1.190000  ...                0.000000   \n",
       "max              2.940000            4.740000  ...                1.000000   \n",
       "\n",
       "       Hydrophobic Interactions_ALA  Hydrophobic Interactions_ARG  \\\n",
       "count                  38313.000000                  38313.000000   \n",
       "mean                       0.154923                      0.141793   \n",
       "std                        0.211552                      0.226192   \n",
       "min                        0.000000                      0.000000   \n",
       "25%                        0.000000                      0.000000   \n",
       "50%                        0.060000                      0.030000   \n",
       "75%                        0.260000                      0.190000   \n",
       "max                        1.900000                      2.740000   \n",
       "\n",
       "       Hydrophobic Interactions_GLN  Hydrophobic Interactions_GLU  \\\n",
       "count                  38313.000000                  38313.000000   \n",
       "mean                       0.040745                      0.112003   \n",
       "std                        0.108114                      0.191295   \n",
       "min                        0.000000                      0.000000   \n",
       "25%                        0.000000                      0.000000   \n",
       "50%                        0.000000                      0.000000   \n",
       "75%                        0.000000                      0.160000   \n",
       "max                        1.320000                      2.190000   \n",
       "\n",
       "       Hydrophobic Interactions_GLY  Hydrophobic Interactions_HYP  \\\n",
       "count                  38313.000000                  38313.000000   \n",
       "mean                       0.047002                      0.384473   \n",
       "std                        0.094760                      0.401581   \n",
       "min                        0.000000                      0.000000   \n",
       "25%                        0.000000                      0.030000   \n",
       "50%                        0.000000                      0.290000   \n",
       "75%                        0.060000                      0.580000   \n",
       "max                        1.130000                      3.650000   \n",
       "\n",
       "       Hydrophobic Interactions_LEU  Hydrophobic Interactions_PRO  \\\n",
       "count                  38313.000000                  38313.000000   \n",
       "mean                       0.177948                      0.636981   \n",
       "std                        0.261759                      0.647696   \n",
       "min                        0.000000                      0.000000   \n",
       "25%                        0.000000                      0.100000   \n",
       "50%                        0.030000                      0.450000   \n",
       "75%                        0.290000                      1.000000   \n",
       "max                        2.520000                      5.480000   \n",
       "\n",
       "       Binding_Energy  \n",
       "count    37836.000000  \n",
       "mean      -296.496320  \n",
       "std        114.312392  \n",
       "min       -790.240000  \n",
       "25%       -372.187500  \n",
       "50%       -291.500000  \n",
       "75%       -215.397500  \n",
       "max        359.680000  \n",
       "\n",
       "[8 rows x 30 columns]"
      ]
     },
     "execution_count": 189,
     "metadata": {},
     "output_type": "execute_result"
    }
   ],
   "source": [
    "df.describe()"
   ]
  },
  {
   "cell_type": "code",
   "execution_count": 190,
   "metadata": {},
   "outputs": [
    {
     "name": "stdout",
     "output_type": "stream",
     "text": [
      "<class 'pandas.core.frame.DataFrame'>\n",
      "RangeIndex: 38314 entries, 0 to 38313\n",
      "Data columns (total 30 columns):\n",
      " #   Column                        Non-Null Count  Dtype  \n",
      "---  ------                        --------------  -----  \n",
      " 0   DD                            38314 non-null  float64\n",
      " 1   HD                            38314 non-null  float64\n",
      " 2   Variant_HD                    38314 non-null  int64  \n",
      " 3   Variant_DD                    38314 non-null  int64  \n",
      " 4   Position                      38314 non-null  int64  \n",
      " 5   Hydrogen Bonds_ALA            38313 non-null  float64\n",
      " 6   Hydrogen Bonds_ARG            38313 non-null  float64\n",
      " 7   Hydrogen Bonds_GLN            38313 non-null  float64\n",
      " 8   Hydrogen Bonds_GLU            38313 non-null  float64\n",
      " 9   Hydrogen Bonds_GLY            38313 non-null  float64\n",
      " 10  Hydrogen Bonds_HYP            38313 non-null  float64\n",
      " 11  Hydrogen Bonds_LEU            38313 non-null  float64\n",
      " 12  Hydrogen Bonds_PRO            38313 non-null  float64\n",
      " 13  Ionic Interactions_ALA        38313 non-null  float64\n",
      " 14  Ionic Interactions_ARG        38313 non-null  float64\n",
      " 15  Ionic Interactions_GLN        38313 non-null  float64\n",
      " 16  Ionic Interactions_GLU        38313 non-null  float64\n",
      " 17  Ionic Interactions_GLY        38313 non-null  float64\n",
      " 18  Ionic Interactions_HYP        38313 non-null  float64\n",
      " 19  Ionic Interactions_LEU        38313 non-null  float64\n",
      " 20  Ionic Interactions_PRO        38313 non-null  float64\n",
      " 21  Hydrophobic Interactions_ALA  38313 non-null  float64\n",
      " 22  Hydrophobic Interactions_ARG  38313 non-null  float64\n",
      " 23  Hydrophobic Interactions_GLN  38313 non-null  float64\n",
      " 24  Hydrophobic Interactions_GLU  38313 non-null  float64\n",
      " 25  Hydrophobic Interactions_GLY  38313 non-null  float64\n",
      " 26  Hydrophobic Interactions_HYP  38313 non-null  float64\n",
      " 27  Hydrophobic Interactions_LEU  38313 non-null  float64\n",
      " 28  Hydrophobic Interactions_PRO  38313 non-null  float64\n",
      " 29  Binding_Energy                37836 non-null  float64\n",
      "dtypes: float64(27), int64(3)\n",
      "memory usage: 8.8 MB\n"
     ]
    }
   ],
   "source": [
    "df.info()"
   ]
  },
  {
   "cell_type": "code",
   "execution_count": 191,
   "metadata": {},
   "outputs": [],
   "source": [
    "df = df.dropna(axis=0,how='any')"
   ]
  },
  {
   "cell_type": "code",
   "execution_count": 192,
   "metadata": {},
   "outputs": [
    {
     "name": "stdout",
     "output_type": "stream",
     "text": [
      "<class 'pandas.core.frame.DataFrame'>\n",
      "Index: 37835 entries, 0 to 38312\n",
      "Data columns (total 30 columns):\n",
      " #   Column                        Non-Null Count  Dtype  \n",
      "---  ------                        --------------  -----  \n",
      " 0   DD                            37835 non-null  float64\n",
      " 1   HD                            37835 non-null  float64\n",
      " 2   Variant_HD                    37835 non-null  int64  \n",
      " 3   Variant_DD                    37835 non-null  int64  \n",
      " 4   Position                      37835 non-null  int64  \n",
      " 5   Hydrogen Bonds_ALA            37835 non-null  float64\n",
      " 6   Hydrogen Bonds_ARG            37835 non-null  float64\n",
      " 7   Hydrogen Bonds_GLN            37835 non-null  float64\n",
      " 8   Hydrogen Bonds_GLU            37835 non-null  float64\n",
      " 9   Hydrogen Bonds_GLY            37835 non-null  float64\n",
      " 10  Hydrogen Bonds_HYP            37835 non-null  float64\n",
      " 11  Hydrogen Bonds_LEU            37835 non-null  float64\n",
      " 12  Hydrogen Bonds_PRO            37835 non-null  float64\n",
      " 13  Ionic Interactions_ALA        37835 non-null  float64\n",
      " 14  Ionic Interactions_ARG        37835 non-null  float64\n",
      " 15  Ionic Interactions_GLN        37835 non-null  float64\n",
      " 16  Ionic Interactions_GLU        37835 non-null  float64\n",
      " 17  Ionic Interactions_GLY        37835 non-null  float64\n",
      " 18  Ionic Interactions_HYP        37835 non-null  float64\n",
      " 19  Ionic Interactions_LEU        37835 non-null  float64\n",
      " 20  Ionic Interactions_PRO        37835 non-null  float64\n",
      " 21  Hydrophobic Interactions_ALA  37835 non-null  float64\n",
      " 22  Hydrophobic Interactions_ARG  37835 non-null  float64\n",
      " 23  Hydrophobic Interactions_GLN  37835 non-null  float64\n",
      " 24  Hydrophobic Interactions_GLU  37835 non-null  float64\n",
      " 25  Hydrophobic Interactions_GLY  37835 non-null  float64\n",
      " 26  Hydrophobic Interactions_HYP  37835 non-null  float64\n",
      " 27  Hydrophobic Interactions_LEU  37835 non-null  float64\n",
      " 28  Hydrophobic Interactions_PRO  37835 non-null  float64\n",
      " 29  Binding_Energy                37835 non-null  float64\n",
      "dtypes: float64(27), int64(3)\n",
      "memory usage: 8.9 MB\n"
     ]
    }
   ],
   "source": [
    "df.info()"
   ]
  },
  {
   "cell_type": "code",
   "execution_count": 193,
   "metadata": {},
   "outputs": [
    {
     "data": {
      "text/plain": [
       "False"
      ]
     },
     "execution_count": 193,
     "metadata": {},
     "output_type": "execute_result"
    }
   ],
   "source": [
    "df.isnull().values.any()"
   ]
  },
  {
   "cell_type": "code",
   "execution_count": 194,
   "metadata": {},
   "outputs": [],
   "source": [
    "df = df.loc[:, (df != 0).any(axis=0)]"
   ]
  },
  {
   "cell_type": "code",
   "execution_count": 195,
   "metadata": {},
   "outputs": [],
   "source": [
    "#df = df.query('HD==0.43')"
   ]
  },
  {
   "cell_type": "code",
   "execution_count": 196,
   "metadata": {},
   "outputs": [],
   "source": [
    "x = df.drop(columns='Binding_Energy')\n",
    "y = df['Binding_Energy']"
   ]
  },
  {
   "cell_type": "code",
   "execution_count": 197,
   "metadata": {},
   "outputs": [
    {
     "data": {
      "text/plain": [
       "<Axes: title={'center': 'Correlated with Exited'}>"
      ]
     },
     "execution_count": 197,
     "metadata": {},
     "output_type": "execute_result"
    },
    {
     "data": {
      "image/png": "[encoded data removed]",
      "text/plain": [
       "<Figure size 1600x900 with 1 Axes>"
      ]
     },
     "metadata": {},
     "output_type": "display_data"
    }
   ],
   "source": [
    "x.corrwith(y).plot.bar(figsize=(16,9), title='Correlated with Exited', rot=45, grid=True)"
   ]
  },
  {
   "cell_type": "code",
   "execution_count": 198,
   "metadata": {},
   "outputs": [
    {
     "name": "stdout",
     "output_type": "stream",
     "text": [
      "(30268, 25)\n"
     ]
    }
   ],
   "source": [
    "x_train, x_test, y_train, y_test = train_test_split(x, y, test_size=0.2, random_state=0)\n",
    "print(x_train.shape)"
   ]
  },
  {
   "cell_type": "markdown",
   "metadata": {},
   "source": [
    "# Building a model"
   ]
  },
  {
   "cell_type": "code",
   "execution_count": 199,
   "metadata": {},
   "outputs": [],
   "source": [
    "from sklearn.linear_model import LinearRegression\n",
    "classifier_lr = LinearRegression()\n",
    "reg = classifier_lr.fit(x_train, y_train)"
   ]
  },
  {
   "cell_type": "code",
   "execution_count": 200,
   "metadata": {},
   "outputs": [
    {
     "data": {
      "text/plain": [
       "0.6781130667490525"
      ]
     },
     "execution_count": 200,
     "metadata": {},
     "output_type": "execute_result"
    }
   ],
   "source": [
    "reg.score(x_train, y_train)"
   ]
  },
  {
   "cell_type": "code",
   "execution_count": null,
   "metadata": {},
   "outputs": [],
   "source": []
  }
 ],
 "metadata": {
  "kernelspec": {
   "display_name": "base",
   "language": "python",
   "name": "python3"
  },
  "language_info": {
   "codemirror_mode": {
    "name": "ipython",
    "version": 3
   },
   "file_extension": ".py",
   "mimetype": "text/x-python",
   "name": "python",
   "nbconvert_exporter": "python",
   "pygments_lexer": "ipython3",
   "version": "3.11.5"
  }
 },
 "nbformat": 4,
 "nbformat_minor": 2
}
